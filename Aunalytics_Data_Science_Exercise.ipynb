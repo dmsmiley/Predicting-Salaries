{
  "nbformat": 4,
  "nbformat_minor": 0,
  "metadata": {
    "colab": {
      "name": "Aunalytics-Data Science Exercise.ipynb",
      "provenance": [],
      "collapsed_sections": []
    },
    "kernelspec": {
      "name": "python3",
      "display_name": "Python 3"
    }
  },
  "cells": [
    {
      "cell_type": "markdown",
      "metadata": {
        "id": "36ZNxEl-s4gC"
      },
      "source": [
        "###Importing Proper Libraries"
      ]
    },
    {
      "cell_type": "code",
      "metadata": {
        "id": "tyk46pywsZ0V"
      },
      "source": [
        "import numpy as np\n",
        "import pandas as pd\n",
        "import seaborn as sns\n",
        "import matplotlib.pyplot as plt\n",
        "from sklearn.linear_model import LogisticRegression\n",
        "from sklearn.tree import DecisionTreeClassifier\n",
        "from sklearn.metrics import accuracy_score, confusion_matrix\n",
        "%matplotlib inline"
      ],
      "execution_count": null,
      "outputs": []
    },
    {
      "cell_type": "markdown",
      "metadata": {
        "id": "3LSrv9XktuUi"
      },
      "source": [
        "###Loading CSV Files"
      ]
    },
    {
      "cell_type": "code",
      "metadata": {
        "id": "dImRsx8Dtxfq"
      },
      "source": [
        "au_train = pd.read_csv('au_train.csv', na_values=\" ?\")\n",
        "au_test = pd.read_csv('au_test.csv', na_values=\" ?\")"
      ],
      "execution_count": null,
      "outputs": []
    },
    {
      "cell_type": "code",
      "metadata": {
        "colab": {
          "base_uri": "https://localhost:8080/",
          "height": 324
        },
        "id": "HOlpSVUNvJbc",
        "outputId": "0a2a5e56-3636-48b0-96b4-51f4d2d27df9"
      },
      "source": [
        "au_train.head()"
      ],
      "execution_count": null,
      "outputs": [
        {
          "output_type": "execute_result",
          "data": {
            "text/html": [
              "<div>\n",
              "<style scoped>\n",
              "    .dataframe tbody tr th:only-of-type {\n",
              "        vertical-align: middle;\n",
              "    }\n",
              "\n",
              "    .dataframe tbody tr th {\n",
              "        vertical-align: top;\n",
              "    }\n",
              "\n",
              "    .dataframe thead th {\n",
              "        text-align: right;\n",
              "    }\n",
              "</style>\n",
              "<table border=\"1\" class=\"dataframe\">\n",
              "  <thead>\n",
              "    <tr style=\"text-align: right;\">\n",
              "      <th></th>\n",
              "      <th>age</th>\n",
              "      <th>workclass</th>\n",
              "      <th>fnlwgt</th>\n",
              "      <th>education</th>\n",
              "      <th>education-num</th>\n",
              "      <th>marital-status</th>\n",
              "      <th>occupation</th>\n",
              "      <th>relationship</th>\n",
              "      <th>race</th>\n",
              "      <th>sex</th>\n",
              "      <th>capital-gain</th>\n",
              "      <th>capital-loss</th>\n",
              "      <th>hours-per-week</th>\n",
              "      <th>native-country</th>\n",
              "      <th>class</th>\n",
              "    </tr>\n",
              "  </thead>\n",
              "  <tbody>\n",
              "    <tr>\n",
              "      <th>0</th>\n",
              "      <td>39</td>\n",
              "      <td>State-gov</td>\n",
              "      <td>77516</td>\n",
              "      <td>Bachelors</td>\n",
              "      <td>13</td>\n",
              "      <td>Never-married</td>\n",
              "      <td>Adm-clerical</td>\n",
              "      <td>Not-in-family</td>\n",
              "      <td>White</td>\n",
              "      <td>Male</td>\n",
              "      <td>2174</td>\n",
              "      <td>0</td>\n",
              "      <td>40</td>\n",
              "      <td>United-States</td>\n",
              "      <td>&lt;=50K</td>\n",
              "    </tr>\n",
              "    <tr>\n",
              "      <th>1</th>\n",
              "      <td>50</td>\n",
              "      <td>Self-emp-not-inc</td>\n",
              "      <td>83311</td>\n",
              "      <td>Bachelors</td>\n",
              "      <td>13</td>\n",
              "      <td>Married-civ-spouse</td>\n",
              "      <td>Exec-managerial</td>\n",
              "      <td>Husband</td>\n",
              "      <td>White</td>\n",
              "      <td>Male</td>\n",
              "      <td>0</td>\n",
              "      <td>0</td>\n",
              "      <td>13</td>\n",
              "      <td>United-States</td>\n",
              "      <td>&lt;=50K</td>\n",
              "    </tr>\n",
              "    <tr>\n",
              "      <th>2</th>\n",
              "      <td>38</td>\n",
              "      <td>Private</td>\n",
              "      <td>215646</td>\n",
              "      <td>HS-grad</td>\n",
              "      <td>9</td>\n",
              "      <td>Divorced</td>\n",
              "      <td>Handlers-cleaners</td>\n",
              "      <td>Not-in-family</td>\n",
              "      <td>White</td>\n",
              "      <td>Male</td>\n",
              "      <td>0</td>\n",
              "      <td>0</td>\n",
              "      <td>40</td>\n",
              "      <td>United-States</td>\n",
              "      <td>&lt;=50K</td>\n",
              "    </tr>\n",
              "    <tr>\n",
              "      <th>3</th>\n",
              "      <td>53</td>\n",
              "      <td>Private</td>\n",
              "      <td>234721</td>\n",
              "      <td>11th</td>\n",
              "      <td>7</td>\n",
              "      <td>Married-civ-spouse</td>\n",
              "      <td>Handlers-cleaners</td>\n",
              "      <td>Husband</td>\n",
              "      <td>Black</td>\n",
              "      <td>Male</td>\n",
              "      <td>0</td>\n",
              "      <td>0</td>\n",
              "      <td>40</td>\n",
              "      <td>United-States</td>\n",
              "      <td>&lt;=50K</td>\n",
              "    </tr>\n",
              "    <tr>\n",
              "      <th>4</th>\n",
              "      <td>28</td>\n",
              "      <td>Private</td>\n",
              "      <td>338409</td>\n",
              "      <td>Bachelors</td>\n",
              "      <td>13</td>\n",
              "      <td>Married-civ-spouse</td>\n",
              "      <td>Prof-specialty</td>\n",
              "      <td>Wife</td>\n",
              "      <td>Black</td>\n",
              "      <td>Female</td>\n",
              "      <td>0</td>\n",
              "      <td>0</td>\n",
              "      <td>40</td>\n",
              "      <td>Cuba</td>\n",
              "      <td>&lt;=50K</td>\n",
              "    </tr>\n",
              "  </tbody>\n",
              "</table>\n",
              "</div>"
            ],
            "text/plain": [
              "   age          workclass  fnlwgt  ... hours-per-week  native-country   class\n",
              "0   39          State-gov   77516  ...             40   United-States   <=50K\n",
              "1   50   Self-emp-not-inc   83311  ...             13   United-States   <=50K\n",
              "2   38            Private  215646  ...             40   United-States   <=50K\n",
              "3   53            Private  234721  ...             40   United-States   <=50K\n",
              "4   28            Private  338409  ...             40            Cuba   <=50K\n",
              "\n",
              "[5 rows x 15 columns]"
            ]
          },
          "metadata": {
            "tags": []
          },
          "execution_count": 448
        }
      ]
    },
    {
      "cell_type": "code",
      "metadata": {
        "colab": {
          "base_uri": "https://localhost:8080/",
          "height": 324
        },
        "id": "a94wq9jRTdCL",
        "outputId": "1fbaf886-86a5-4f7f-d84e-64e0fdf75926"
      },
      "source": [
        "au_test.head()"
      ],
      "execution_count": null,
      "outputs": [
        {
          "output_type": "execute_result",
          "data": {
            "text/html": [
              "<div>\n",
              "<style scoped>\n",
              "    .dataframe tbody tr th:only-of-type {\n",
              "        vertical-align: middle;\n",
              "    }\n",
              "\n",
              "    .dataframe tbody tr th {\n",
              "        vertical-align: top;\n",
              "    }\n",
              "\n",
              "    .dataframe thead th {\n",
              "        text-align: right;\n",
              "    }\n",
              "</style>\n",
              "<table border=\"1\" class=\"dataframe\">\n",
              "  <thead>\n",
              "    <tr style=\"text-align: right;\">\n",
              "      <th></th>\n",
              "      <th>age</th>\n",
              "      <th>workclass</th>\n",
              "      <th>fnlwgt</th>\n",
              "      <th>education</th>\n",
              "      <th>education-num</th>\n",
              "      <th>marital-status</th>\n",
              "      <th>occupation</th>\n",
              "      <th>relationship</th>\n",
              "      <th>race</th>\n",
              "      <th>sex</th>\n",
              "      <th>capital-gain</th>\n",
              "      <th>capital-loss</th>\n",
              "      <th>hours-per-week</th>\n",
              "      <th>native-country</th>\n",
              "      <th>class</th>\n",
              "    </tr>\n",
              "  </thead>\n",
              "  <tbody>\n",
              "    <tr>\n",
              "      <th>0</th>\n",
              "      <td>25</td>\n",
              "      <td>Private</td>\n",
              "      <td>226802</td>\n",
              "      <td>11th</td>\n",
              "      <td>7</td>\n",
              "      <td>Never-married</td>\n",
              "      <td>Machine-op-inspct</td>\n",
              "      <td>Own-child</td>\n",
              "      <td>Black</td>\n",
              "      <td>Male</td>\n",
              "      <td>0</td>\n",
              "      <td>0</td>\n",
              "      <td>40</td>\n",
              "      <td>United-States</td>\n",
              "      <td>&lt;=50K.</td>\n",
              "    </tr>\n",
              "    <tr>\n",
              "      <th>1</th>\n",
              "      <td>38</td>\n",
              "      <td>Private</td>\n",
              "      <td>89814</td>\n",
              "      <td>HS-grad</td>\n",
              "      <td>9</td>\n",
              "      <td>Married-civ-spouse</td>\n",
              "      <td>Farming-fishing</td>\n",
              "      <td>Husband</td>\n",
              "      <td>White</td>\n",
              "      <td>Male</td>\n",
              "      <td>0</td>\n",
              "      <td>0</td>\n",
              "      <td>50</td>\n",
              "      <td>United-States</td>\n",
              "      <td>&lt;=50K.</td>\n",
              "    </tr>\n",
              "    <tr>\n",
              "      <th>2</th>\n",
              "      <td>28</td>\n",
              "      <td>Local-gov</td>\n",
              "      <td>336951</td>\n",
              "      <td>Assoc-acdm</td>\n",
              "      <td>12</td>\n",
              "      <td>Married-civ-spouse</td>\n",
              "      <td>Protective-serv</td>\n",
              "      <td>Husband</td>\n",
              "      <td>White</td>\n",
              "      <td>Male</td>\n",
              "      <td>0</td>\n",
              "      <td>0</td>\n",
              "      <td>40</td>\n",
              "      <td>United-States</td>\n",
              "      <td>&gt;50K.</td>\n",
              "    </tr>\n",
              "    <tr>\n",
              "      <th>3</th>\n",
              "      <td>44</td>\n",
              "      <td>Private</td>\n",
              "      <td>160323</td>\n",
              "      <td>Some-college</td>\n",
              "      <td>10</td>\n",
              "      <td>Married-civ-spouse</td>\n",
              "      <td>Machine-op-inspct</td>\n",
              "      <td>Husband</td>\n",
              "      <td>Black</td>\n",
              "      <td>Male</td>\n",
              "      <td>7688</td>\n",
              "      <td>0</td>\n",
              "      <td>40</td>\n",
              "      <td>United-States</td>\n",
              "      <td>&gt;50K.</td>\n",
              "    </tr>\n",
              "    <tr>\n",
              "      <th>4</th>\n",
              "      <td>18</td>\n",
              "      <td>NaN</td>\n",
              "      <td>103497</td>\n",
              "      <td>Some-college</td>\n",
              "      <td>10</td>\n",
              "      <td>Never-married</td>\n",
              "      <td>NaN</td>\n",
              "      <td>Own-child</td>\n",
              "      <td>White</td>\n",
              "      <td>Female</td>\n",
              "      <td>0</td>\n",
              "      <td>0</td>\n",
              "      <td>30</td>\n",
              "      <td>United-States</td>\n",
              "      <td>&lt;=50K.</td>\n",
              "    </tr>\n",
              "  </tbody>\n",
              "</table>\n",
              "</div>"
            ],
            "text/plain": [
              "   age   workclass  fnlwgt  ... hours-per-week  native-country    class\n",
              "0   25     Private  226802  ...             40   United-States   <=50K.\n",
              "1   38     Private   89814  ...             50   United-States   <=50K.\n",
              "2   28   Local-gov  336951  ...             40   United-States    >50K.\n",
              "3   44     Private  160323  ...             40   United-States    >50K.\n",
              "4   18         NaN  103497  ...             30   United-States   <=50K.\n",
              "\n",
              "[5 rows x 15 columns]"
            ]
          },
          "metadata": {
            "tags": []
          },
          "execution_count": 449
        }
      ]
    },
    {
      "cell_type": "markdown",
      "metadata": {
        "id": "HfbhYUNT78bH"
      },
      "source": [
        "###Initial Data Overview"
      ]
    },
    {
      "cell_type": "markdown",
      "metadata": {
        "id": "FA9kmx5W8Hee"
      },
      "source": [
        "By running the info function on the dataframe, we quickly answer many important questions.\n",
        "- We are given the total number of records for each columns.\n",
        "- Because everything is non-null (or at least before we passed the na_values through read.csv) all attributes for each individual has an assigned value.\n",
        "- The dtype of each column is important to know as well as one thinks ahead to data cleaning and modeling."
      ]
    },
    {
      "cell_type": "code",
      "metadata": {
        "colab": {
          "base_uri": "https://localhost:8080/"
        },
        "id": "iQ_qMPHIvWq6",
        "outputId": "fac9c08f-cac0-4958-ac1e-3752b8989c9f"
      },
      "source": [
        "au_train.info()"
      ],
      "execution_count": null,
      "outputs": [
        {
          "output_type": "stream",
          "text": [
            "<class 'pandas.core.frame.DataFrame'>\n",
            "RangeIndex: 32561 entries, 0 to 32560\n",
            "Data columns (total 15 columns):\n",
            " #   Column          Non-Null Count  Dtype \n",
            "---  ------          --------------  ----- \n",
            " 0   age             32561 non-null  int64 \n",
            " 1   workclass       30725 non-null  object\n",
            " 2   fnlwgt          32561 non-null  int64 \n",
            " 3   education       32561 non-null  object\n",
            " 4   education-num   32561 non-null  int64 \n",
            " 5   marital-status  32561 non-null  object\n",
            " 6   occupation      30718 non-null  object\n",
            " 7   relationship    32561 non-null  object\n",
            " 8   race            32561 non-null  object\n",
            " 9   sex             32561 non-null  object\n",
            " 10  capital-gain    32561 non-null  int64 \n",
            " 11  capital-loss    32561 non-null  int64 \n",
            " 12  hours-per-week  32561 non-null  int64 \n",
            " 13  native-country  31978 non-null  object\n",
            " 14  class           32561 non-null  object\n",
            "dtypes: int64(6), object(9)\n",
            "memory usage: 3.7+ MB\n"
          ],
          "name": "stdout"
        }
      ]
    },
    {
      "cell_type": "code",
      "metadata": {
        "colab": {
          "base_uri": "https://localhost:8080/"
        },
        "id": "PAaOzkDuTi1x",
        "outputId": "414784de-fc75-42e7-a293-7408b3bedeb0"
      },
      "source": [
        "au_test.info()"
      ],
      "execution_count": null,
      "outputs": [
        {
          "output_type": "stream",
          "text": [
            "<class 'pandas.core.frame.DataFrame'>\n",
            "RangeIndex: 16281 entries, 0 to 16280\n",
            "Data columns (total 15 columns):\n",
            " #   Column          Non-Null Count  Dtype \n",
            "---  ------          --------------  ----- \n",
            " 0   age             16281 non-null  int64 \n",
            " 1   workclass       15318 non-null  object\n",
            " 2   fnlwgt          16281 non-null  int64 \n",
            " 3   education       16281 non-null  object\n",
            " 4   education-num   16281 non-null  int64 \n",
            " 5   marital-status  16281 non-null  object\n",
            " 6   occupation      15315 non-null  object\n",
            " 7   relationship    16281 non-null  object\n",
            " 8   race            16281 non-null  object\n",
            " 9   sex             16281 non-null  object\n",
            " 10  capital-gain    16281 non-null  int64 \n",
            " 11  capital-loss    16281 non-null  int64 \n",
            " 12  hours-per-week  16281 non-null  int64 \n",
            " 13  native-country  16007 non-null  object\n",
            " 14  class           16281 non-null  object\n",
            "dtypes: int64(6), object(9)\n",
            "memory usage: 1.9+ MB\n"
          ],
          "name": "stdout"
        }
      ]
    },
    {
      "cell_type": "code",
      "metadata": {
        "colab": {
          "base_uri": "https://localhost:8080/"
        },
        "id": "6lqVArPzkGkS",
        "outputId": "a7a77f6e-939d-43ee-ad25-f961c6e2151c"
      },
      "source": [
        "au_train.isnull().values.any()"
      ],
      "execution_count": null,
      "outputs": [
        {
          "output_type": "execute_result",
          "data": {
            "text/plain": [
              "True"
            ]
          },
          "metadata": {
            "tags": []
          },
          "execution_count": 452
        }
      ]
    },
    {
      "cell_type": "code",
      "metadata": {
        "colab": {
          "base_uri": "https://localhost:8080/"
        },
        "id": "V2FyceL5TltC",
        "outputId": "9a90ac37-8fce-4b4d-e8d9-f61f0d5226e6"
      },
      "source": [
        "au_test.isnull().values.any()"
      ],
      "execution_count": null,
      "outputs": [
        {
          "output_type": "execute_result",
          "data": {
            "text/plain": [
              "True"
            ]
          },
          "metadata": {
            "tags": []
          },
          "execution_count": 453
        }
      ]
    },
    {
      "cell_type": "markdown",
      "metadata": {
        "id": "lhh1ictpwdHe"
      },
      "source": [
        "###Data Cleaning"
      ]
    },
    {
      "cell_type": "markdown",
      "metadata": {
        "id": "PVnFI896KxUI"
      },
      "source": [
        "Viewing all columns with non-integer dtypes provides more information.\n",
        "- 'fnlwgt' is a column with no inherent description and contains 21648 unique values. Therefore, I will drop this column since I am uncertain of its value to the model. In the future if more information is given, and it is proven to be a significant number, I would probably bin them into categories.\n",
        "- Additionally, I will be dropping \"education\" since it is redundant with \"education-num\".\n",
        "- All string values have fronted white spaces, which could cause confusion. Therefore, all white spaces are stripped.\n",
        "- Next, although there are techinically no null values, it seems those that should be be null were replaced with \" ?\". This will be corrected by replacing \"?\" with nan values in the loading cell.\n",
        "- When looking at the test set, there are also \".\"s after each value in *class*. Those will also be scrubbed.\n",
        "- When viewing the unique values, with respective to the object columns there is a difference between the test and training set in only one instance: the test set is missing \"Holland-Netherlands\". Since I am creating dummy values already for the sets (and since the dictionaries created from the unique values isn't long and there's only one difference), I will add a column to the test set with 0s under a new \"Holand-Netherlands\" columns to create a joint number of features. Not doing so would result in uneven training and testing features."
      ]
    },
    {
      "cell_type": "code",
      "metadata": {
        "id": "yjfI1l0Ar7Zi"
      },
      "source": [
        "au_train = au_train.drop(columns=['fnlwgt', 'education'])\n",
        "au_test = au_test.drop(columns=['fnlwgt', 'education'])"
      ],
      "execution_count": null,
      "outputs": []
    },
    {
      "cell_type": "code",
      "metadata": {
        "colab": {
          "base_uri": "https://localhost:8080/"
        },
        "id": "Zf8YdUeqdW2Q",
        "outputId": "901eacf4-7bc1-4e09-ba33-94b550637af7"
      },
      "source": [
        "object_columns = ['workclass','marital-status','occupation',\n",
        "                  'relationship','race','sex','native-country', 'class']\n",
        "\n",
        "num_columns = ['age','education-num','capital-gain',\n",
        "               'capital-loss','hours-per-week']\n",
        "\n",
        "print(\"Object Columns: Training Set\")\n",
        "for x in au_train[object_columns]:\n",
        "  j = au_train[x].nunique()\n",
        "  print(x, \"has \", j, \"unique values.\")\n",
        "\n",
        "print(\"\\nInteger Columns: Training Set\")\n",
        "for x in au_train[num_columns]:\n",
        "  j = au_train[x].nunique()\n",
        "  print(x, \"has \", j, \"unique values.\")\n",
        "\n",
        "print(\"\\nObject Columns: Test Set\")\n",
        "for x in au_test[object_columns]:\n",
        "  j = au_test[x].nunique()\n",
        "  print(x, \"has \", j, \"unique values.\")\n",
        "\n",
        "print(\"\\nInteger Columns: Test Set\")\n",
        "for x in au_test[num_columns]:\n",
        "  j = au_test[x].nunique()\n",
        "  print(x, \"has \", j, \"unique values.\")"
      ],
      "execution_count": null,
      "outputs": [
        {
          "output_type": "stream",
          "text": [
            "Object Columns: Training Set\n",
            "workclass has  8 unique values.\n",
            "marital-status has  7 unique values.\n",
            "occupation has  14 unique values.\n",
            "relationship has  6 unique values.\n",
            "race has  5 unique values.\n",
            "sex has  2 unique values.\n",
            "native-country has  41 unique values.\n",
            "class has  2 unique values.\n",
            "\n",
            "Integer Columns: Training Set\n",
            "age has  73 unique values.\n",
            "education-num has  16 unique values.\n",
            "capital-gain has  119 unique values.\n",
            "capital-loss has  92 unique values.\n",
            "hours-per-week has  94 unique values.\n",
            "\n",
            "Object Columns: Test Set\n",
            "workclass has  8 unique values.\n",
            "marital-status has  7 unique values.\n",
            "occupation has  14 unique values.\n",
            "relationship has  6 unique values.\n",
            "race has  5 unique values.\n",
            "sex has  2 unique values.\n",
            "native-country has  40 unique values.\n",
            "class has  2 unique values.\n",
            "\n",
            "Integer Columns: Test Set\n",
            "age has  73 unique values.\n",
            "education-num has  16 unique values.\n",
            "capital-gain has  113 unique values.\n",
            "capital-loss has  82 unique values.\n",
            "hours-per-week has  89 unique values.\n"
          ],
          "name": "stdout"
        }
      ]
    },
    {
      "cell_type": "code",
      "metadata": {
        "colab": {
          "base_uri": "https://localhost:8080/"
        },
        "id": "PtSmEcHy9XGv",
        "outputId": "8936bd55-7d57-415d-9bb4-be3658b22645"
      },
      "source": [
        "def see_unique(x):\n",
        "  print(x.workclass.unique())\n",
        "  print(x['marital-status'].unique())\n",
        "  print(x.occupation.unique())\n",
        "  print(x.relationship.unique())\n",
        "  print(x.race.unique())\n",
        "  print(x.sex.unique())\n",
        "  print(x['native-country'].unique())\n",
        "  print(x['class'].unique())\n",
        "\n",
        "see_unique(au_train)"
      ],
      "execution_count": null,
      "outputs": [
        {
          "output_type": "stream",
          "text": [
            "[' State-gov' ' Self-emp-not-inc' ' Private' ' Federal-gov' ' Local-gov'\n",
            " nan ' Self-emp-inc' ' Without-pay' ' Never-worked']\n",
            "[' Never-married' ' Married-civ-spouse' ' Divorced'\n",
            " ' Married-spouse-absent' ' Separated' ' Married-AF-spouse' ' Widowed']\n",
            "[' Adm-clerical' ' Exec-managerial' ' Handlers-cleaners' ' Prof-specialty'\n",
            " ' Other-service' ' Sales' ' Craft-repair' ' Transport-moving'\n",
            " ' Farming-fishing' ' Machine-op-inspct' ' Tech-support' nan\n",
            " ' Protective-serv' ' Armed-Forces' ' Priv-house-serv']\n",
            "[' Not-in-family' ' Husband' ' Wife' ' Own-child' ' Unmarried'\n",
            " ' Other-relative']\n",
            "[' White' ' Black' ' Asian-Pac-Islander' ' Amer-Indian-Eskimo' ' Other']\n",
            "[' Male' ' Female']\n",
            "[' United-States' ' Cuba' ' Jamaica' ' India' nan ' Mexico' ' South'\n",
            " ' Puerto-Rico' ' Honduras' ' England' ' Canada' ' Germany' ' Iran'\n",
            " ' Philippines' ' Italy' ' Poland' ' Columbia' ' Cambodia' ' Thailand'\n",
            " ' Ecuador' ' Laos' ' Taiwan' ' Haiti' ' Portugal' ' Dominican-Republic'\n",
            " ' El-Salvador' ' France' ' Guatemala' ' China' ' Japan' ' Yugoslavia'\n",
            " ' Peru' ' Outlying-US(Guam-USVI-etc)' ' Scotland' ' Trinadad&Tobago'\n",
            " ' Greece' ' Nicaragua' ' Vietnam' ' Hong' ' Ireland' ' Hungary'\n",
            " ' Holand-Netherlands']\n",
            "[' <=50K' ' >50K']\n"
          ],
          "name": "stdout"
        }
      ]
    },
    {
      "cell_type": "code",
      "metadata": {
        "colab": {
          "base_uri": "https://localhost:8080/"
        },
        "id": "iQRgBcdTUG6h",
        "outputId": "ba6576e6-345a-43ed-f04a-527801f9b773"
      },
      "source": [
        "see_unique(au_test)"
      ],
      "execution_count": null,
      "outputs": [
        {
          "output_type": "stream",
          "text": [
            "[' Private' ' Local-gov' nan ' Self-emp-not-inc' ' Federal-gov'\n",
            " ' State-gov' ' Self-emp-inc' ' Without-pay' ' Never-worked']\n",
            "[' Never-married' ' Married-civ-spouse' ' Widowed' ' Divorced'\n",
            " ' Separated' ' Married-spouse-absent' ' Married-AF-spouse']\n",
            "[' Machine-op-inspct' ' Farming-fishing' ' Protective-serv' nan\n",
            " ' Other-service' ' Prof-specialty' ' Craft-repair' ' Adm-clerical'\n",
            " ' Exec-managerial' ' Tech-support' ' Sales' ' Priv-house-serv'\n",
            " ' Transport-moving' ' Handlers-cleaners' ' Armed-Forces']\n",
            "[' Own-child' ' Husband' ' Not-in-family' ' Unmarried' ' Wife'\n",
            " ' Other-relative']\n",
            "[' Black' ' White' ' Asian-Pac-Islander' ' Other' ' Amer-Indian-Eskimo']\n",
            "[' Male' ' Female']\n",
            "[' United-States' nan ' Peru' ' Guatemala' ' Mexico' ' Dominican-Republic'\n",
            " ' Ireland' ' Germany' ' Philippines' ' Thailand' ' Haiti' ' El-Salvador'\n",
            " ' Puerto-Rico' ' Vietnam' ' South' ' Columbia' ' Japan' ' India'\n",
            " ' Cambodia' ' Poland' ' Laos' ' England' ' Cuba' ' Taiwan' ' Italy'\n",
            " ' Canada' ' Portugal' ' China' ' Nicaragua' ' Honduras' ' Iran'\n",
            " ' Scotland' ' Jamaica' ' Ecuador' ' Yugoslavia' ' Hungary' ' Hong'\n",
            " ' Greece' ' Trinadad&Tobago' ' Outlying-US(Guam-USVI-etc)' ' France']\n",
            "[' <=50K.' ' >50K.']\n"
          ],
          "name": "stdout"
        }
      ]
    },
    {
      "cell_type": "code",
      "metadata": {
        "colab": {
          "base_uri": "https://localhost:8080/"
        },
        "id": "02Ofe3fwLs-B",
        "outputId": "ec4c3fa3-eac3-4983-948a-cf36fb6e36ba"
      },
      "source": [
        "au_train = au_train.apply(lambda x: x.str.strip() if x.dtype == \"object\" else x)\n",
        "au_test = au_test.apply(lambda x: x.str.strip() if x.dtype == \"object\" else x)\n",
        "au_test = au_test.apply(lambda x: x.str.strip('.') if x.dtype == 'object' else x)\n",
        "print(see_unique(au_train))\n",
        "print(see_unique(au_test))"
      ],
      "execution_count": null,
      "outputs": [
        {
          "output_type": "stream",
          "text": [
            "['State-gov' 'Self-emp-not-inc' 'Private' 'Federal-gov' 'Local-gov' nan\n",
            " 'Self-emp-inc' 'Without-pay' 'Never-worked']\n",
            "['Never-married' 'Married-civ-spouse' 'Divorced' 'Married-spouse-absent'\n",
            " 'Separated' 'Married-AF-spouse' 'Widowed']\n",
            "['Adm-clerical' 'Exec-managerial' 'Handlers-cleaners' 'Prof-specialty'\n",
            " 'Other-service' 'Sales' 'Craft-repair' 'Transport-moving'\n",
            " 'Farming-fishing' 'Machine-op-inspct' 'Tech-support' nan\n",
            " 'Protective-serv' 'Armed-Forces' 'Priv-house-serv']\n",
            "['Not-in-family' 'Husband' 'Wife' 'Own-child' 'Unmarried' 'Other-relative']\n",
            "['White' 'Black' 'Asian-Pac-Islander' 'Amer-Indian-Eskimo' 'Other']\n",
            "['Male' 'Female']\n",
            "['United-States' 'Cuba' 'Jamaica' 'India' nan 'Mexico' 'South'\n",
            " 'Puerto-Rico' 'Honduras' 'England' 'Canada' 'Germany' 'Iran'\n",
            " 'Philippines' 'Italy' 'Poland' 'Columbia' 'Cambodia' 'Thailand' 'Ecuador'\n",
            " 'Laos' 'Taiwan' 'Haiti' 'Portugal' 'Dominican-Republic' 'El-Salvador'\n",
            " 'France' 'Guatemala' 'China' 'Japan' 'Yugoslavia' 'Peru'\n",
            " 'Outlying-US(Guam-USVI-etc)' 'Scotland' 'Trinadad&Tobago' 'Greece'\n",
            " 'Nicaragua' 'Vietnam' 'Hong' 'Ireland' 'Hungary' 'Holand-Netherlands']\n",
            "['<=50K' '>50K']\n",
            "None\n",
            "['Private' 'Local-gov' nan 'Self-emp-not-inc' 'Federal-gov' 'State-gov'\n",
            " 'Self-emp-inc' 'Without-pay' 'Never-worked']\n",
            "['Never-married' 'Married-civ-spouse' 'Widowed' 'Divorced' 'Separated'\n",
            " 'Married-spouse-absent' 'Married-AF-spouse']\n",
            "['Machine-op-inspct' 'Farming-fishing' 'Protective-serv' nan\n",
            " 'Other-service' 'Prof-specialty' 'Craft-repair' 'Adm-clerical'\n",
            " 'Exec-managerial' 'Tech-support' 'Sales' 'Priv-house-serv'\n",
            " 'Transport-moving' 'Handlers-cleaners' 'Armed-Forces']\n",
            "['Own-child' 'Husband' 'Not-in-family' 'Unmarried' 'Wife' 'Other-relative']\n",
            "['Black' 'White' 'Asian-Pac-Islander' 'Other' 'Amer-Indian-Eskimo']\n",
            "['Male' 'Female']\n",
            "['United-States' nan 'Peru' 'Guatemala' 'Mexico' 'Dominican-Republic'\n",
            " 'Ireland' 'Germany' 'Philippines' 'Thailand' 'Haiti' 'El-Salvador'\n",
            " 'Puerto-Rico' 'Vietnam' 'South' 'Columbia' 'Japan' 'India' 'Cambodia'\n",
            " 'Poland' 'Laos' 'England' 'Cuba' 'Taiwan' 'Italy' 'Canada' 'Portugal'\n",
            " 'China' 'Nicaragua' 'Honduras' 'Iran' 'Scotland' 'Jamaica' 'Ecuador'\n",
            " 'Yugoslavia' 'Hungary' 'Hong' 'Greece' 'Trinadad&Tobago'\n",
            " 'Outlying-US(Guam-USVI-etc)' 'France']\n",
            "['<=50K' '>50K']\n",
            "None\n"
          ],
          "name": "stdout"
        }
      ]
    },
    {
      "cell_type": "code",
      "metadata": {
        "colab": {
          "base_uri": "https://localhost:8080/"
        },
        "id": "CTPZXx1yjITv",
        "outputId": "a2e1d489-ff04-4316-f570-4b932c337692"
      },
      "source": [
        "print(au_train.isnull().sum())\n",
        "print(\"{:.2%} of workclass is null.\".format(au_train['workclass'].isnull().sum()/au_train['workclass'].count()))\n",
        "print(\"{:.2%} of occupation is null.\".format(au_train['occupation'].isnull().sum()/au_train['occupation'].count()))\n",
        "print(\"{:.2%} of native-country is null.\".format(au_train['native-country'].isnull().sum()/au_train['native-country'].count()))"
      ],
      "execution_count": null,
      "outputs": [
        {
          "output_type": "stream",
          "text": [
            "age                  0\n",
            "workclass         1836\n",
            "education-num        0\n",
            "marital-status       0\n",
            "occupation        1843\n",
            "relationship         0\n",
            "race                 0\n",
            "sex                  0\n",
            "capital-gain         0\n",
            "capital-loss         0\n",
            "hours-per-week       0\n",
            "native-country     583\n",
            "class                0\n",
            "dtype: int64\n",
            "5.98% of workclass is null.\n",
            "6.00% of occupation is null.\n",
            "1.82% of native-country is null.\n"
          ],
          "name": "stdout"
        }
      ]
    },
    {
      "cell_type": "code",
      "metadata": {
        "colab": {
          "base_uri": "https://localhost:8080/"
        },
        "id": "QfXkVGmHYsl0",
        "outputId": "6b4c00f5-64fe-4f15-c6cc-4446d9814803"
      },
      "source": [
        "print(au_test.isnull().sum())\n",
        "print(\"{:.2%} of workclass is null.\".format(au_test['workclass'].isnull().sum()/au_test['workclass'].count()))\n",
        "print(\"{:.2%} of occupation is null.\".format(au_test['occupation'].isnull().sum()/au_test['occupation'].count()))\n",
        "print(\"{:.2%} of native-country is null.\".format(au_test['native-country'].isnull().sum()/au_test['native-country'].count()))"
      ],
      "execution_count": null,
      "outputs": [
        {
          "output_type": "stream",
          "text": [
            "age                 0\n",
            "workclass         963\n",
            "education-num       0\n",
            "marital-status      0\n",
            "occupation        966\n",
            "relationship        0\n",
            "race                0\n",
            "sex                 0\n",
            "capital-gain        0\n",
            "capital-loss        0\n",
            "hours-per-week      0\n",
            "native-country    274\n",
            "class               0\n",
            "dtype: int64\n",
            "6.29% of workclass is null.\n",
            "6.31% of occupation is null.\n",
            "1.71% of native-country is null.\n"
          ],
          "name": "stdout"
        }
      ]
    },
    {
      "cell_type": "code",
      "metadata": {
        "colab": {
          "base_uri": "https://localhost:8080/"
        },
        "id": "q0bJJAt-KpS6",
        "outputId": "d2cd1940-c684-4765-820e-95aa39766fff"
      },
      "source": [
        "country_train = dict(au_train[['native-country']].value_counts())\n",
        "country_train"
      ],
      "execution_count": null,
      "outputs": [
        {
          "output_type": "execute_result",
          "data": {
            "text/plain": [
              "{('Cambodia',): 19,\n",
              " ('Canada',): 121,\n",
              " ('China',): 75,\n",
              " ('Columbia',): 59,\n",
              " ('Cuba',): 95,\n",
              " ('Dominican-Republic',): 70,\n",
              " ('Ecuador',): 28,\n",
              " ('El-Salvador',): 106,\n",
              " ('England',): 90,\n",
              " ('France',): 29,\n",
              " ('Germany',): 137,\n",
              " ('Greece',): 29,\n",
              " ('Guatemala',): 64,\n",
              " ('Haiti',): 44,\n",
              " ('Holand-Netherlands',): 1,\n",
              " ('Honduras',): 13,\n",
              " ('Hong',): 20,\n",
              " ('Hungary',): 13,\n",
              " ('India',): 100,\n",
              " ('Iran',): 43,\n",
              " ('Ireland',): 24,\n",
              " ('Italy',): 73,\n",
              " ('Jamaica',): 81,\n",
              " ('Japan',): 62,\n",
              " ('Laos',): 18,\n",
              " ('Mexico',): 643,\n",
              " ('Nicaragua',): 34,\n",
              " ('Outlying-US(Guam-USVI-etc)',): 14,\n",
              " ('Peru',): 31,\n",
              " ('Philippines',): 198,\n",
              " ('Poland',): 60,\n",
              " ('Portugal',): 37,\n",
              " ('Puerto-Rico',): 114,\n",
              " ('Scotland',): 12,\n",
              " ('South',): 80,\n",
              " ('Taiwan',): 51,\n",
              " ('Thailand',): 18,\n",
              " ('Trinadad&Tobago',): 19,\n",
              " ('United-States',): 29170,\n",
              " ('Vietnam',): 67,\n",
              " ('Yugoslavia',): 16}"
            ]
          },
          "metadata": {
            "tags": []
          },
          "execution_count": 461
        }
      ]
    },
    {
      "cell_type": "code",
      "metadata": {
        "colab": {
          "base_uri": "https://localhost:8080/"
        },
        "id": "YI8Gq4ctaV-s",
        "outputId": "4308ce72-b459-41a2-b6b7-83e27686aeac"
      },
      "source": [
        "country_test = dict(au_test[['native-country']].value_counts())\n",
        "country_test\n",
        "\n",
        "#add Holand-Netherlands,"
      ],
      "execution_count": null,
      "outputs": [
        {
          "output_type": "execute_result",
          "data": {
            "text/plain": [
              "{('Cambodia',): 9,\n",
              " ('Canada',): 61,\n",
              " ('China',): 47,\n",
              " ('Columbia',): 26,\n",
              " ('Cuba',): 43,\n",
              " ('Dominican-Republic',): 33,\n",
              " ('Ecuador',): 17,\n",
              " ('El-Salvador',): 49,\n",
              " ('England',): 37,\n",
              " ('France',): 9,\n",
              " ('Germany',): 69,\n",
              " ('Greece',): 20,\n",
              " ('Guatemala',): 24,\n",
              " ('Haiti',): 31,\n",
              " ('Honduras',): 7,\n",
              " ('Hong',): 10,\n",
              " ('Hungary',): 6,\n",
              " ('India',): 51,\n",
              " ('Iran',): 16,\n",
              " ('Ireland',): 13,\n",
              " ('Italy',): 32,\n",
              " ('Jamaica',): 25,\n",
              " ('Japan',): 30,\n",
              " ('Laos',): 5,\n",
              " ('Mexico',): 308,\n",
              " ('Nicaragua',): 15,\n",
              " ('Outlying-US(Guam-USVI-etc)',): 9,\n",
              " ('Peru',): 15,\n",
              " ('Philippines',): 97,\n",
              " ('Poland',): 27,\n",
              " ('Portugal',): 30,\n",
              " ('Puerto-Rico',): 70,\n",
              " ('Scotland',): 9,\n",
              " ('South',): 35,\n",
              " ('Taiwan',): 14,\n",
              " ('Thailand',): 12,\n",
              " ('Trinadad&Tobago',): 8,\n",
              " ('United-States',): 14662,\n",
              " ('Vietnam',): 19,\n",
              " ('Yugoslavia',): 7}"
            ]
          },
          "metadata": {
            "tags": []
          },
          "execution_count": 462
        }
      ]
    },
    {
      "cell_type": "code",
      "metadata": {
        "id": "iSbpE1LXxFeb",
        "colab": {
          "base_uri": "https://localhost:8080/",
          "height": 274
        },
        "outputId": "3a0f0530-8db2-47f8-883f-43cfe2d5d085"
      },
      "source": [
        "au_train.describe()"
      ],
      "execution_count": null,
      "outputs": [
        {
          "output_type": "execute_result",
          "data": {
            "text/html": [
              "<div>\n",
              "<style scoped>\n",
              "    .dataframe tbody tr th:only-of-type {\n",
              "        vertical-align: middle;\n",
              "    }\n",
              "\n",
              "    .dataframe tbody tr th {\n",
              "        vertical-align: top;\n",
              "    }\n",
              "\n",
              "    .dataframe thead th {\n",
              "        text-align: right;\n",
              "    }\n",
              "</style>\n",
              "<table border=\"1\" class=\"dataframe\">\n",
              "  <thead>\n",
              "    <tr style=\"text-align: right;\">\n",
              "      <th></th>\n",
              "      <th>age</th>\n",
              "      <th>education-num</th>\n",
              "      <th>capital-gain</th>\n",
              "      <th>capital-loss</th>\n",
              "      <th>hours-per-week</th>\n",
              "    </tr>\n",
              "  </thead>\n",
              "  <tbody>\n",
              "    <tr>\n",
              "      <th>count</th>\n",
              "      <td>32561.000000</td>\n",
              "      <td>32561.000000</td>\n",
              "      <td>32561.000000</td>\n",
              "      <td>32561.000000</td>\n",
              "      <td>32561.000000</td>\n",
              "    </tr>\n",
              "    <tr>\n",
              "      <th>mean</th>\n",
              "      <td>38.581647</td>\n",
              "      <td>10.080679</td>\n",
              "      <td>1077.648844</td>\n",
              "      <td>87.303830</td>\n",
              "      <td>40.437456</td>\n",
              "    </tr>\n",
              "    <tr>\n",
              "      <th>std</th>\n",
              "      <td>13.640433</td>\n",
              "      <td>2.572720</td>\n",
              "      <td>7385.292085</td>\n",
              "      <td>402.960219</td>\n",
              "      <td>12.347429</td>\n",
              "    </tr>\n",
              "    <tr>\n",
              "      <th>min</th>\n",
              "      <td>17.000000</td>\n",
              "      <td>1.000000</td>\n",
              "      <td>0.000000</td>\n",
              "      <td>0.000000</td>\n",
              "      <td>1.000000</td>\n",
              "    </tr>\n",
              "    <tr>\n",
              "      <th>25%</th>\n",
              "      <td>28.000000</td>\n",
              "      <td>9.000000</td>\n",
              "      <td>0.000000</td>\n",
              "      <td>0.000000</td>\n",
              "      <td>40.000000</td>\n",
              "    </tr>\n",
              "    <tr>\n",
              "      <th>50%</th>\n",
              "      <td>37.000000</td>\n",
              "      <td>10.000000</td>\n",
              "      <td>0.000000</td>\n",
              "      <td>0.000000</td>\n",
              "      <td>40.000000</td>\n",
              "    </tr>\n",
              "    <tr>\n",
              "      <th>75%</th>\n",
              "      <td>48.000000</td>\n",
              "      <td>12.000000</td>\n",
              "      <td>0.000000</td>\n",
              "      <td>0.000000</td>\n",
              "      <td>45.000000</td>\n",
              "    </tr>\n",
              "    <tr>\n",
              "      <th>max</th>\n",
              "      <td>90.000000</td>\n",
              "      <td>16.000000</td>\n",
              "      <td>99999.000000</td>\n",
              "      <td>4356.000000</td>\n",
              "      <td>99.000000</td>\n",
              "    </tr>\n",
              "  </tbody>\n",
              "</table>\n",
              "</div>"
            ],
            "text/plain": [
              "                age  education-num  capital-gain  capital-loss  hours-per-week\n",
              "count  32561.000000   32561.000000  32561.000000  32561.000000    32561.000000\n",
              "mean      38.581647      10.080679   1077.648844     87.303830       40.437456\n",
              "std       13.640433       2.572720   7385.292085    402.960219       12.347429\n",
              "min       17.000000       1.000000      0.000000      0.000000        1.000000\n",
              "25%       28.000000       9.000000      0.000000      0.000000       40.000000\n",
              "50%       37.000000      10.000000      0.000000      0.000000       40.000000\n",
              "75%       48.000000      12.000000      0.000000      0.000000       45.000000\n",
              "max       90.000000      16.000000  99999.000000   4356.000000       99.000000"
            ]
          },
          "metadata": {
            "tags": []
          },
          "execution_count": 463
        }
      ]
    },
    {
      "cell_type": "code",
      "metadata": {
        "colab": {
          "base_uri": "https://localhost:8080/",
          "height": 615
        },
        "id": "NKyS72Ycu9dt",
        "outputId": "f44f874d-ee70-4cfb-a0dd-97eebc8b4c46"
      },
      "source": [
        "au_train[num_columns].hist(figsize=(8,8))"
      ],
      "execution_count": null,
      "outputs": [
        {
          "output_type": "execute_result",
          "data": {
            "text/plain": [
              "array([[<matplotlib.axes._subplots.AxesSubplot object at 0x7f96db79d990>,\n",
              "        <matplotlib.axes._subplots.AxesSubplot object at 0x7f96db79dfd0>],\n",
              "       [<matplotlib.axes._subplots.AxesSubplot object at 0x7f96db99dc50>,\n",
              "        <matplotlib.axes._subplots.AxesSubplot object at 0x7f96db96b210>],\n",
              "       [<matplotlib.axes._subplots.AxesSubplot object at 0x7f96db921790>,\n",
              "        <matplotlib.axes._subplots.AxesSubplot object at 0x7f96db8d7c50>]],\n",
              "      dtype=object)"
            ]
          },
          "metadata": {
            "tags": []
          },
          "execution_count": 464
        },
        {
          "output_type": "display_data",
          "data": {
            "image/png": "[encoded data removed]",
            "text/plain": [
              "<Figure size 576x576 with 6 Axes>"
            ]
          },
          "metadata": {
            "tags": [],
            "needs_background": "light"
          }
        }
      ]
    },
    {
      "cell_type": "code",
      "metadata": {
        "id": "Q4eAxkRdu9bI"
      },
      "source": [
        "au_train = pd.get_dummies(au_train, columns=['workclass','marital-status','occupation',\n",
        "                  'relationship','race','sex','native-country','class'], \n",
        "                prefix=['workclass','marital-status','occupation',\n",
        "                  'relationship','race','sex','native-country','class'])\n",
        "\n",
        "au_test = pd.get_dummies(au_test, columns=['workclass','marital-status','occupation',\n",
        "                  'relationship','race','sex','native-country','class'], \n",
        "                prefix=['workclass','marital-status','occupation',\n",
        "                  'relationship','race','sex','native-country','class'])"
      ],
      "execution_count": null,
      "outputs": []
    },
    {
      "cell_type": "code",
      "metadata": {
        "id": "gsQKRaR8lTLL"
      },
      "source": [
        "au_test['native-country_Holand-Netherlands'] = 0"
      ],
      "execution_count": null,
      "outputs": []
    },
    {
      "cell_type": "code",
      "metadata": {
        "id": "cT6nq9bG3Kaz"
      },
      "source": [
        "au_test = au_test.drop('class_<=50K', axis=1)\n",
        "au_train = au_train.drop('class_<=50K', axis=1)"
      ],
      "execution_count": null,
      "outputs": []
    },
    {
      "cell_type": "markdown",
      "metadata": {
        "id": "Dj6g1DFTavFs"
      },
      "source": [
        "###Classification Algorithms\n"
      ]
    },
    {
      "cell_type": "markdown",
      "metadata": {
        "id": "09PmK1sxa729"
      },
      "source": [
        "Since the question being targeted is categorical, I will deploy three of the most common classification algorithms:\n",
        "- Logistic Regression\n",
        "- Decision Tree Classifier"
      ]
    },
    {
      "cell_type": "code",
      "metadata": {
        "id": "8Frxf6vn7vSX"
      },
      "source": [
        "X_train = au_train.drop(\"class_>50K\", axis=1)\n",
        "y_train = au_train['class_>50K']\n",
        "X_test = au_test.drop('class_>50K', axis=1)\n",
        "y_test = au_test['class_>50K']"
      ],
      "execution_count": null,
      "outputs": []
    },
    {
      "cell_type": "markdown",
      "metadata": {
        "id": "_C6QSVzRbYSk"
      },
      "source": [
        "####Logistic Regression"
      ]
    },
    {
      "cell_type": "code",
      "metadata": {
        "id": "XdkuLAprQUCG",
        "colab": {
          "base_uri": "https://localhost:8080/"
        },
        "outputId": "0b5817be-9789-4517-d9e1-cf0b318636d6"
      },
      "source": [
        "LR_model = LogisticRegression()\n",
        "\n",
        "LR_model.fit(X_train, y_train)\n",
        "\n",
        "LR_coef_table = pd.DataFrame(list(X_train.columns)).copy()\n",
        "LR_coef_table.insert(len(LR_coef_table.columns), \"Coefs\", LR_model.coef_.transpose())"
      ],
      "execution_count": null,
      "outputs": [
        {
          "output_type": "stream",
          "text": [
            "/usr/local/lib/python3.7/dist-packages/sklearn/linear_model/_logistic.py:940: ConvergenceWarning: lbfgs failed to converge (status=1):\n",
            "STOP: TOTAL NO. of ITERATIONS REACHED LIMIT.\n",
            "\n",
            "Increase the number of iterations (max_iter) or scale the data as shown in:\n",
            "    https://scikit-learn.org/stable/modules/preprocessing.html\n",
            "Please also refer to the documentation for alternative solver options:\n",
            "    https://scikit-learn.org/stable/modules/linear_model.html#logistic-regression\n",
            "  extra_warning_msg=_LOGISTIC_SOLVER_CONVERGENCE_MSG)\n"
          ],
          "name": "stderr"
        }
      ]
    },
    {
      "cell_type": "code",
      "metadata": {
        "id": "YEr6HU7jcUou"
      },
      "source": [
        "LR_predictions = LR_model.predict(X_test)"
      ],
      "execution_count": null,
      "outputs": []
    },
    {
      "cell_type": "code",
      "metadata": {
        "colab": {
          "base_uri": "https://localhost:8080/"
        },
        "id": "K3QRk4fymJIa",
        "outputId": "cf216ce0-8788-4aa3-c8f9-fa54fcb8328c"
      },
      "source": [
        "LR_acc = accuracy_score(y_test, LR_predictions)\n",
        "LR_acc"
      ],
      "execution_count": null,
      "outputs": [
        {
          "output_type": "execute_result",
          "data": {
            "text/plain": [
              "0.8315214053190836"
            ]
          },
          "metadata": {
            "tags": []
          },
          "execution_count": 471
        }
      ]
    },
    {
      "cell_type": "code",
      "metadata": {
        "colab": {
          "base_uri": "https://localhost:8080/"
        },
        "id": "3qtIo71cmZ04",
        "outputId": "355a4e9a-6b05-4aeb-e59d-f499af6103b0"
      },
      "source": [
        "print(\"Logistic Regression Testing Accuracy: \", LR_acc)\n",
        "confusion_matrix(list(y_test), LR_predictions)"
      ],
      "execution_count": null,
      "outputs": [
        {
          "output_type": "stream",
          "text": [
            "Logistic Regression Testing Accuracy:  0.8315214053190836\n"
          ],
          "name": "stdout"
        },
        {
          "output_type": "execute_result",
          "data": {
            "text/plain": [
              "array([[11116,  1319],\n",
              "       [ 1424,  2422]])"
            ]
          },
          "metadata": {
            "tags": []
          },
          "execution_count": 472
        }
      ]
    },
    {
      "cell_type": "code",
      "metadata": {
        "colab": {
          "base_uri": "https://localhost:8080/",
          "height": 384
        },
        "id": "eqRiiIweceZo",
        "outputId": "a003484f-3289-45c5-faee-959e739b0613"
      },
      "source": [
        "print(LR_coef_table[LR_coef_table.Coefs > .3])\n",
        "\n",
        "LR_top_coef = LR_coef_table[LR_coef_table.Coefs > .3]\n",
        "\n",
        "LR_top_coef.plot(kind='bar')"
      ],
      "execution_count": null,
      "outputs": [
        {
          "output_type": "stream",
          "text": [
            "                                    0     Coefs\n",
            "15  marital-status_Married-civ-spouse  0.596840\n",
            "23         occupation_Exec-managerial  0.565984\n",
            "29          occupation_Prof-specialty  0.469547\n",
            "34               relationship_Husband  0.305590\n",
            "39                  relationship_Wife  0.323916\n"
          ],
          "name": "stdout"
        },
        {
          "output_type": "execute_result",
          "data": {
            "text/plain": [
              "<matplotlib.axes._subplots.AxesSubplot at 0x7f96dc155110>"
            ]
          },
          "metadata": {
            "tags": []
          },
          "execution_count": 473
        },
        {
          "output_type": "display_data",
          "data": {
            "image/png": "[encoded data removed]",
            "text/plain": [
              "<Figure size 432x288 with 1 Axes>"
            ]
          },
          "metadata": {
            "tags": [],
            "needs_background": "light"
          }
        }
      ]
    },
    {
      "cell_type": "markdown",
      "metadata": {
        "id": "_IoYBtOKxY30"
      },
      "source": [
        "####Decision Tree Classifier"
      ]
    },
    {
      "cell_type": "code",
      "metadata": {
        "colab": {
          "base_uri": "https://localhost:8080/"
        },
        "id": "-MgkRhSNnbkY",
        "outputId": "0cb8eac3-2194-4a88-a277-d8df6f56cd9a"
      },
      "source": [
        "DT_model = DecisionTreeClassifier()\n",
        "DT_model.fit(X_train, y_train)"
      ],
      "execution_count": null,
      "outputs": [
        {
          "output_type": "execute_result",
          "data": {
            "text/plain": [
              "DecisionTreeClassifier(ccp_alpha=0.0, class_weight=None, criterion='gini',\n",
              "                       max_depth=None, max_features=None, max_leaf_nodes=None,\n",
              "                       min_impurity_decrease=0.0, min_impurity_split=None,\n",
              "                       min_samples_leaf=1, min_samples_split=2,\n",
              "                       min_weight_fraction_leaf=0.0, presort='deprecated',\n",
              "                       random_state=None, splitter='best')"
            ]
          },
          "metadata": {
            "tags": []
          },
          "execution_count": 474
        }
      ]
    },
    {
      "cell_type": "code",
      "metadata": {
        "id": "gk1TfQrn5-rL"
      },
      "source": [
        "DT_coef_table = pd.DataFrame(list(X_train.columns)).copy()\n",
        "DT_coef_table.insert(len(DT_coef_table.columns), \"Coefs\", DT_model.feature_importances_.transpose())"
      ],
      "execution_count": null,
      "outputs": []
    },
    {
      "cell_type": "code",
      "metadata": {
        "id": "nhFaRrhw0f8L"
      },
      "source": [
        "DT_predictions = DT_model.predict(X_test)"
      ],
      "execution_count": null,
      "outputs": []
    },
    {
      "cell_type": "code",
      "metadata": {
        "colab": {
          "base_uri": "https://localhost:8080/"
        },
        "id": "l3DR276R3_Aa",
        "outputId": "152d3c22-cced-4d7f-9468-d3d7ec46ec4c"
      },
      "source": [
        "DT_acc = accuracy_score(y_test, DT_predictions)\n",
        "DT_acc"
      ],
      "execution_count": null,
      "outputs": [
        {
          "output_type": "execute_result",
          "data": {
            "text/plain": [
              "0.8067686260057736"
            ]
          },
          "metadata": {
            "tags": []
          },
          "execution_count": 477
        }
      ]
    },
    {
      "cell_type": "code",
      "metadata": {
        "colab": {
          "base_uri": "https://localhost:8080/"
        },
        "id": "pEsWK_wP4GMq",
        "outputId": "c19820c3-35dc-49dd-ac2a-9f5cf78f500c"
      },
      "source": [
        "print(\"Decision Tree Testing Accuracy: \", DT_acc)\n",
        "confusion_matrix(list(y_test), DT_predictions)"
      ],
      "execution_count": null,
      "outputs": [
        {
          "output_type": "stream",
          "text": [
            "Decision Tree Testing Accuracy:  0.8067686260057736\n"
          ],
          "name": "stdout"
        },
        {
          "output_type": "execute_result",
          "data": {
            "text/plain": [
              "array([[10826,  1609],\n",
              "       [ 1537,  2309]])"
            ]
          },
          "metadata": {
            "tags": []
          },
          "execution_count": 478
        }
      ]
    },
    {
      "cell_type": "code",
      "metadata": {
        "colab": {
          "base_uri": "https://localhost:8080/",
          "height": 384
        },
        "id": "m273GXh95BnF",
        "outputId": "2f75fc9a-caae-4f93-da25-baefe8ffcee4"
      },
      "source": [
        "DT_sorted_coef = DT_coef_table.sort_values(by='Coefs', ascending=False)[0:5]\n",
        "print(DT_sorted_coef)\n",
        "DT_sorted_coef.plot(kind='bar')"
      ],
      "execution_count": null,
      "outputs": [
        {
          "output_type": "stream",
          "text": [
            "                                    0     Coefs\n",
            "15  marital-status_Married-civ-spouse  0.214150\n",
            "0                                 age  0.162470\n",
            "1                       education-num  0.145566\n",
            "2                        capital-gain  0.119049\n",
            "4                      hours-per-week  0.100577\n"
          ],
          "name": "stdout"
        },
        {
          "output_type": "execute_result",
          "data": {
            "text/plain": [
              "<matplotlib.axes._subplots.AxesSubplot at 0x7f96dc59ce90>"
            ]
          },
          "metadata": {
            "tags": []
          },
          "execution_count": 479
        },
        {
          "output_type": "display_data",
          "data": {
            "image/png": "[encoded data removed]",
            "text/plain": [
              "<Figure size 432x288 with 1 Axes>"
            ]
          },
          "metadata": {
            "tags": [],
            "needs_background": "light"
          }
        }
      ]
    }
  ]
}